{
 "cells": [
  {
   "cell_type": "markdown",
   "metadata": {},
   "source": [
    "# TMSD - Ex06 - `[escreva seu nome aqui]`\n",
    "\n",
    "Neste exercício você vai implementar um sinal PRBS e usá-lo para obter a resposta em frequência do sistema.\n",
    "\n",
    "**HONESTIDADE ACADÊMICA**\n",
    "\n",
    "Todo o trabalho feito neste curso deve ser exclusivamente seu. A colaboração de terceiros na realização dos trabalhos não é permitida.\n",
    "\n",
    "Ver ou copiar o trabalho de outro indivíduo do curso ou retirar material de um livro, site ou outra fonte, mesmo em parte e apresentá-lo como seu próprio constitui desonestidade acadêmica, assim como mostrar ou dar a sua obra, mesmo em parte, a outro estudante. Da mesma forma, é desonestidade acadêmica fornecer ou tornar as soluções disponíveis dos trabalhos para os indivíduos que fazem ou poderão fazer este curso no futuro. Você está convidado a discutir o material do curso com os outros, a fim de melhor compreendê-lo. Você pode até discutir sobre os trabalhos com os colegas, mas você não pode compartilhar códigos, funções, projetos, tabelas, desenhos esquemáticos, mapas ou diagramas.\n",
    "\n",
    "Você pode e deve recorrer à Web para obter referências na busca de soluções para os trabalhos, mas não por soluções definitivas para os problemas. No entanto, deve-se citar explicitamente no projeto a origem de qualquer procedimento ou técnica que você descubra fora do curso.\n",
    "\n",
    "Todas as formas de desonestidade acadêmica são tratadas com rigor.\n",
    "\n",
    "\n",
    "**Instruções:**\n",
    "- Use a versão Python 3.x\n",
    "- Evite sempre usar usar laços `for` e `while`, fazer contas no formato vetorial é sempre mais rápido.\n",
    "- Não apague os comentários que já existem nas células de código. Mas é claro que você pode adicionar outros comentários.\n",
    "- Em TODOS os gráficos use `plt.figure(figsize=(8,1.5))` para especificar esse tamanho de figura.\n",
    "\n",
    "**Objetivos**\n",
    "- Implementar sinal PRBS\n",
    "- Analisar autocorrelação de um sinal PRBS\n",
    "- Analisar sinal PRBS no domínio da frequência"
   ]
  },
  {
   "cell_type": "markdown",
   "metadata": {},
   "source": [
    "# Sinal PRBS (*pseudo-random binary sequence*)\n",
    "\n",
    "O sinal PRBS (*pseudo-random binary sequence*) pode ser gerado por um sistema digital conforme diagrama a seguir.\n",
    "\n",
    "![PRBS](https://upload.wikimedia.org/wikipedia/commons/0/01/MLS_shiftregisters_L4.png)\n",
    "\n",
    "O sinal de saída é denotado por $s(n)$ e os registradores binários são denotados por $a_0$, $a_1$, $a_2$, $a_3$. No exemplo acima, o sinal PRBS é gerado com 4 bits, $n=4$.\n",
    "\n",
    "Note que o diagrama acima representa uma sequência discreta no tempo. Quando implementamos o sinal PRBS em sistemas dinâmicos, geralmente ajustamos também o *intervalo de tempo entre dois bits* $T_b$ da sequência. Para um sistema dinâmico que tenha a *menor constante de tempo de interesse* $\\tau_{\\mathrm{min}}$, sugere-se escolher $T_b$ de modo que:\n",
    "\n",
    "$$\\frac{\\tau_{\\mathrm{min}}}{10} \\le T_b \\le \\frac{\\tau_{\\mathrm{min}}}{3}.$$\n",
    "\n",
    "Para um determinado $T_b$, o sinal gerado terá período $T=(2^n-1)T_b$.\n",
    "\n",
    "Parâmetros importantes:\n",
    " - Menor constante de tempo estimada do sistema $\\tau_{\\mathrm{min}}$\n",
    " - Número de bits $n$\n",
    " - Tempo de bit $T_b$\n",
    " - Período do sinal $T$\n",
    "\n",
    "Crie uma função que gere um sinal PRBS, para um dado vetor de tempo e alguns parâmetros conforme abaixo. Use a função `scipy.signal.max_len_seq` para gerar a sequência. Você pode usar também a função `np.kron(sinal, np.ones((M)))` para segurar um mesmo valor para um número `M` de amostras.\n",
    "\n",
    "1. Nome da função:\n",
    "  + `prbs(t, nbits, Tb, lim=[0, 1])`\n",
    "1. Entrada:\n",
    "  + `t`: vetor de tempo\n",
    "  + `nbits`: número de bits para gerar o PRBS\n",
    "  + `Tb`: intervalo de tempo entre dois bits (múltiplo do período de amostragem do vetor tempo)\n",
    "  + `lim`: vetor com dois valores indicando valores máximo e mínimo do sinal `[u_min, u_max]`\n",
    "1. Saída:\n",
    "  + `t`: vetor de tempo\n",
    "  + `u`: vetor com o sinal PBRS\n",
    "\n",
    "Para testar a função, gere um sinal PRBS conforme dados abaixo e mostre o gráfico desse sinal com relação ao tempo.\n",
    " - `N = 500`\n",
    " - `T = .1`\n",
    " - `t = np.arange(0, N*T, T)`\n",
    " - `Tb = .3`\n",
    " - `nbits=6`\n",
    " \n",
    "Mostre também o módulo da transformada de Fourier e também a função de autocorrelação do sinal PRBS gerado.\n",
    "\n",
    "Para os gráficos use `plt.figure(figsize=(8,1.5))` para especificar esse tamanho de figura."
   ]
  },
  {
   "cell_type": "code",
   "execution_count": null,
   "metadata": {},
   "outputs": [],
   "source": [
    "### SEU CÓDIGO COMEÇA AQUI ###\n",
    "def prbs(t, nbits, Tb, lim=[0, 1]):\n",
    "    return None\n",
    "\n",
    "### FIM DO CÓDIGO ###"
   ]
  },
  {
   "cell_type": "markdown",
   "metadata": {},
   "source": [
    "**Saída esperada**:\n",
    "- Gráfico do sinal PRBS no domínio tempo.\n",
    "- Gráfico do módulo da FFT do sinal PRBS, no domínio da frequência.\n",
    "- Gráfico da função de autocorrelação do sinal PRBS.\n",
    "___\n",
    "\n",
    "\n",
    "# Identificação usando sinal PRBS\n",
    "\n",
    "\n",
    "Escolhendo os parâmetros adequadamente, aplique o sinal PRBS no sistema e obtenha resposta ao impulso estimada $\\hat{h}(t)$ do sistema. Mostre um gráfico de $\\hat{h}(t)$ no tempo e também a resposta em frequência estimada do sistema $\\hat{H}(j\\omega)$, dada pela transformada de Fourier da resposta ao impulso. A resposta ao impulso é estimada com: $\\hat{h}=R^{-1}_u r_{uy}$ (veja os detalhes no livro).\n",
    "\n",
    "Implemente por partes, conforme saídas esperadas especificadas abaixo.\n",
    "\n",
    "Para os gráficos use `plt.figure(figsize=(8,1.5))` para especificar esse tamanho de figura."
   ]
  },
  {
   "cell_type": "code",
   "execution_count": null,
   "metadata": {},
   "outputs": [],
   "source": [
    "### SEU CÓDIGO COMEÇA AQUI ###\n",
    "None\n",
    "### FIM DO CÓDIGO ###"
   ]
  },
  {
   "cell_type": "code",
   "execution_count": null,
   "metadata": {},
   "outputs": [],
   "source": [
    "### SEU CÓDIGO COMEÇA AQUI ###\n",
    "None\n",
    "### FIM DO CÓDIGO ###"
   ]
  },
  {
   "cell_type": "markdown",
   "metadata": {},
   "source": [
    "**Saída esperada**:\n",
    "- Gráfico 1: sinal PRBS de entrada no domínio do tempo\n",
    "- Gráfico 2: sinal de saída do sistema no domínio do tempo\n",
    "- Gráfico 3: autocorrelação do sinal PRBS usado\n",
    "\n",
    "*Verifique que o sinal PRBS aplicado foi adequado!*\n",
    "___"
   ]
  },
  {
   "cell_type": "code",
   "execution_count": null,
   "metadata": {},
   "outputs": [],
   "source": [
    "### SEU CÓDIGO COMEÇA AQUI ###\n",
    "None\n",
    "### FIM DO CÓDIGO ###"
   ]
  },
  {
   "cell_type": "code",
   "execution_count": null,
   "metadata": {},
   "outputs": [],
   "source": [
    "### SEU CÓDIGO COMEÇA AQUI ###\n",
    "None\n",
    "### FIM DO CÓDIGO ###"
   ]
  },
  {
   "cell_type": "markdown",
   "metadata": {},
   "source": [
    "**Saída esperada**:\n",
    "- Gráfico 4: resposta ao impulso no domínio do tempo $\\hat{h}(t)$\n",
    "- Gráfico 5: resposta em frequência $\\hat{H}(j\\omega)$\n",
    "\n",
    "*É possível ver se a resposta em frequência está minimamente coerente comparando-a com os sistemas lineares obtidos nas etapas anteriores*\n",
    "___"
   ]
  },
  {
   "cell_type": "markdown",
   "metadata": {},
   "source": [
    "Acabou rápido? Faça o desafio opcional abaixo! Se não fizer, tudo bem.\n",
    "\n",
    "\n",
    "# Desafio! (opcional)\n",
    "\n",
    "Incremente ruído no sinal de saída e faça o mesmo procedimento para estimar $\\hat{H}(j\\omega)$ novamente. Compare num mesmo gráfico as respostas em frequências obtidas com e sem ruído. Faça o mesmo para as respostas ao impulso (domínio do tempo). Verifique a robustez do método à ruídos de medição."
   ]
  },
  {
   "cell_type": "code",
   "execution_count": null,
   "metadata": {},
   "outputs": [],
   "source": [
    "### SEU CÓDIGO COMEÇA AQUI ###\n",
    "\n",
    "### FIM DO CÓDIGO ###"
   ]
  },
  {
   "cell_type": "markdown",
   "metadata": {},
   "source": [
    "Fim (ufa!)"
   ]
  }
 ],
 "metadata": {
  "kernelspec": {
   "display_name": "Python 3",
   "language": "python",
   "name": "python3"
  },
  "language_info": {
   "codemirror_mode": {
    "name": "ipython",
    "version": 3
   },
   "file_extension": ".py",
   "mimetype": "text/x-python",
   "name": "python",
   "nbconvert_exporter": "python",
   "pygments_lexer": "ipython3",
   "version": "3.6.11"
  },
  "toc": {
   "base_numbering": 1,
   "nav_menu": {
    "height": "228px",
    "width": "370px"
   },
   "number_sections": true,
   "sideBar": true,
   "skip_h1_title": false,
   "title_cell": "Table of Contents",
   "title_sidebar": "Contents",
   "toc_cell": false,
   "toc_position": {},
   "toc_section_display": true,
   "toc_window_display": false
  }
 },
 "nbformat": 4,
 "nbformat_minor": 2
}
