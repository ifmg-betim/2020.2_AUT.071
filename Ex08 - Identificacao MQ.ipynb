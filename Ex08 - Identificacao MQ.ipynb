{
 "cells": [
  {
   "cell_type": "markdown",
   "metadata": {},
   "source": [
    "# TMSD - Ex08 - `[escreva seu nome aqui]` - `[escreva seu RA aqui]`\n",
    "\n",
    "Neste exercício você vai obter um modelo paramétrico pelo método dos mínimos quadrados.\n",
    "\n",
    "**HONESTIDADE ACADÊMICA**\n",
    "\n",
    "Todo o trabalho feito neste curso deve ser exclusivamente seu. A colaboração de terceiros na realização dos trabalhos não é permitida.\n",
    "\n",
    "Ver ou copiar o trabalho de outro indivíduo do curso ou retirar material de um livro, site ou outra fonte, mesmo em parte e apresentá-lo como seu próprio constitui desonestidade acadêmica, assim como mostrar ou dar a sua obra, mesmo em parte, a outro estudante. Da mesma forma, é desonestidade acadêmica fornecer ou tornar as soluções disponíveis dos trabalhos para os indivíduos que fazem ou poderão fazer este curso no futuro. Você está convidado a discutir o material do curso com os outros, a fim de melhor compreendê-lo. Você pode até discutir sobre os trabalhos com os colegas, mas você não pode compartilhar códigos, funções, projetos, tabelas, desenhos esquemáticos, mapas ou diagramas.\n",
    "\n",
    "Você pode e deve recorrer à Web para obter referências na busca de soluções para os trabalhos, mas não por soluções definitivas para os problemas. No entanto, deve-se citar explicitamente no projeto a origem de qualquer procedimento ou técnica que você descubra fora do curso.\n",
    "\n",
    "Todas as formas de desonestidade acadêmica são tratadas com rigor.\n",
    "\n",
    "\n",
    "**Instruções:**\n",
    "- Use a versão Python 3.x\n",
    "- Não apague os comentários que já existem nas células de código, mas é claro que você pode adicionar outros comentários.\n",
    "- Em TODOS os gráficos use `plt.figure(figsize=(8,1.5))` para especificar esse tamanho de figura.\n",
    "\n",
    "**Objetivos**\n",
    "- Obter, no mínimo, dois modelos em tempo discreto ($\\mathcal{M}_{7a}$, $\\mathcal{M}_{7b}$, etc.) para o sistema\n",
    "- Obter os modelos correspondentes no domínio do tempo contínuo ($\\mathcal{M}_{8a}$, $\\mathcal{M}_{8b}$, etc.)"
   ]
  },
  {
   "cell_type": "markdown",
   "metadata": {},
   "source": [
    "## Coleta de dados\n",
    "\n",
    "Nesta primeira parte você vai obter os dados de entrada e saída do sistema original por meio de testes no sistema. Lembre-se que um bom ensaio entrada/saída deve ter uma boa *persistência de excitação* do sistema. O vídeo https://youtu.be/FiPLVI_FRKQ trata um pouco do assunto.\n",
    "\n",
    "Outra informação particularmente útil é a escolha do período de amostragem. Para obter um bom modelo de tempo discreto é fundamental fazer uma boa escolha do período de amostragem. O vídeo https://youtu.be/8z0u7sBmxPg trata deste assunto.\n",
    "\n",
    "Para efetuar as escolhas acima, use as ferramentas que aprendeu na disciplina, como funções de correlação, análise no domínio da frequência, teste simples em degrau, entre outras. Ao usar qualquer ferramenta para tomar decisões de modelagem, *você deve mostrar os gráficos e justificar a escolha* (nem que seja por \"tentativa e erro\").\n",
    "\n",
    "Faça o seguinte:\n",
    "1. Escolha um período de amostragem adequado\n",
    "1. Escolha três sinais de entrada adequados, sendo dois próximos do ponto de operação e outro mais afastado\n",
    "1. Com os sinais de entrada e saída, componha três conjuntos de dados, sendo dois próximos do ponto de operação ($\\mathcal{Z}_{1}$ e $\\mathcal{Z}_{2}$) e outro mais afastado ($\\mathcal{Z}_{3}$)\n",
    "   - $\\mathcal{Z}_1$: dados de estimação (treinamento)\n",
    "   - $\\mathcal{Z}_2$: dados de teste (usado para ajuste dos [*hiperparâmetros*](https://en.wikipedia.org/wiki/Hyperparameter_(machine_learning)) )  )\n",
    "1. Mostre os gráficos dos sinais de entrada e de saída de $\\mathcal{Z}_1$, $\\mathcal{Z}_2$ e $\\mathcal{Z}_3$\n",
    "\n",
    "Para **todos** os gráficos use `plt.figure(figsize=(8,1.5))` para especificar esse tamanho de figura."
   ]
  },
  {
   "cell_type": "code",
   "execution_count": 1,
   "metadata": {},
   "outputs": [],
   "source": [
    "### SEU CÓDIGO COMEÇA AQUI ###\n",
    "None\n",
    "### FIM DO CÓDIGO ###"
   ]
  },
  {
   "cell_type": "markdown",
   "metadata": {},
   "source": [
    "`[escreva textos justificando escolhas de modelagem em células de texto como ESTA]`"
   ]
  },
  {
   "cell_type": "code",
   "execution_count": 1,
   "metadata": {},
   "outputs": [],
   "source": [
    "### SEU CÓDIGO COMEÇA AQUI ###\n",
    "None\n",
    "### FIM DO CÓDIGO ###"
   ]
  },
  {
   "cell_type": "markdown",
   "metadata": {},
   "source": [
    "## Escolha de estrutura e estimação dos parâmetros\n",
    "\n",
    "Agora você deve fazer a escolha da estrutura do modelo e proceder com o ajuste de parâmetros.\n",
    "\n",
    "1. Escolha, no mínimo, duas estruturas de modelo ($\\mathcal{M}_{7a}$, $\\mathcal{M}_{7b}$, etc.) para usar (você pode escolher mais de duas estruturas!)\n",
    "1. Para obter os modelos você deve usar o conjunto $\\mathcal{Z}_{1}$ (dados de estimação ou treinamento) para estimar os parâmetros usando mínimos quadrados\n",
    "1. Num mesmo gráfico, mostre a saída do sistema $\\mathcal{M}_{0}$ e dos modelos estimados ($\\mathcal{M}_{7a}$, $\\mathcal{M}_{7b}$) para o conjunto de dados de estimação $\\mathcal{Z}_{1}$\n",
    "1. Num mesmo gráfico, mostre a saída do sistema $\\mathcal{M}_{0}$ e dos modelos estimados ($\\mathcal{M}_{7a}$, $\\mathcal{M}_{7b}$) para o conjunto de dados de teste $\\mathcal{Z}_{2}$\n",
    "   - Você pode avaliar o desempenho do modelo em $\\mathcal{Z}_{2}$ (dados de teste) para fazer ajustes na estrutura mais adequada, no melhor tempo de amostragem, entre outros [*hiperparâmetros*](https://en.wikipedia.org/wiki/Hyperparameter_(machine_learning))\n",
    "1. Num mesmo gráfico, mostre a saída do sistema $\\mathcal{M}_{0}$ e dos modelos estimados ($\\mathcal{M}_{7a}$, $\\mathcal{M}_{7b}$) para o conjunto de dados $\\mathcal{Z}_{3}$\n",
    "1. Ao final você deve comentar os resultados obtidos\n",
    "\n",
    "**Para todos os gráficos use `plt.figure(figsize=(8,1.5))` para especificar esse tamanho de figura.*"
   ]
  },
  {
   "cell_type": "code",
   "execution_count": 1,
   "metadata": {},
   "outputs": [],
   "source": [
    "### SEU CÓDIGO COMEÇA AQUI ###\n",
    "None\n",
    "### FIM DO CÓDIGO ###"
   ]
  },
  {
   "cell_type": "markdown",
   "metadata": {},
   "source": [
    "`[escreva textos justificando escolhas de modelagem em células de texto como ESTA]`"
   ]
  },
  {
   "cell_type": "code",
   "execution_count": 1,
   "metadata": {},
   "outputs": [],
   "source": [
    "### SEU CÓDIGO COMEÇA AQUI ###\n",
    "None\n",
    "### FIM DO CÓDIGO ###"
   ]
  },
  {
   "cell_type": "markdown",
   "metadata": {},
   "source": [
    "`[escreva textos comentando os resultados obtidos em células de texto como ESTA]`"
   ]
  },
  {
   "cell_type": "code",
   "execution_count": 1,
   "metadata": {},
   "outputs": [],
   "source": [
    "### SEU CÓDIGO COMEÇA AQUI ###\n",
    "None\n",
    "### FIM DO CÓDIGO ###"
   ]
  },
  {
   "cell_type": "markdown",
   "metadata": {},
   "source": [
    "**Saída esperada** (no mínimo):\n",
    "- Gráfico 1: resposta do processo $\\mathcal{M}_0$ e dos modelos obtidos ($\\mathcal{M}_{7a}$, $\\mathcal{M}_{7b}$, etc.) nos dados de treinamento $\\mathcal{Z}_{1}$\n",
    "- Gráfico 2: resposta do processo $\\mathcal{M}_0$ e dos modelos obtidos ($\\mathcal{M}_{7a}$, $\\mathcal{M}_{7b}$, etc.) nos dados de teste $\\mathcal{Z}_{2}$\n",
    "- Gráfico 3: resposta do processo $\\mathcal{M}_0$ e dos modelos obtidos ($\\mathcal{M}_{7a}$, $\\mathcal{M}_{7b}$, etc.) nos dados $\\mathcal{Z}_{3}$\n",
    "- Comentários acerca do desempenho dos modelos nos dados acima\n",
    "___\n",
    "\n",
    "## Obtenção dos modelos contínuos\n",
    "\n",
    "Obtenha os modelos correspondentes de tempo contínuo ($\\mathcal{M}_{8a}$, $\\mathcal{M}_{8b}$, etc.) usando a transformada bilinear e plote os mesmos gráficos comparativos. Para obter os modelos correspondentes de tempo contínuo, você pode usar a função [scipy.signal.bilinear](https://docs.scipy.org/doc/scipy/reference/generated/scipy.signal.bilinear.html).\n",
    "\n",
    "**Para todos os gráficos use `plt.figure(figsize=(8,1.5))` para especificar esse tamanho de figura.*"
   ]
  },
  {
   "cell_type": "code",
   "execution_count": null,
   "metadata": {},
   "outputs": [],
   "source": [
    "### SEU CÓDIGO COMEÇA AQUI ###\n",
    "None\n",
    "### FIM DO CÓDIGO ###"
   ]
  },
  {
   "cell_type": "markdown",
   "metadata": {},
   "source": [
    "`[escreva textos comentando os resultados obtidos em células de texto como ESTA]`"
   ]
  },
  {
   "cell_type": "code",
   "execution_count": null,
   "metadata": {},
   "outputs": [],
   "source": [
    "### SEU CÓDIGO COMEÇA AQUI ###\n",
    "None\n",
    "### FIM DO CÓDIGO ###"
   ]
  },
  {
   "cell_type": "markdown",
   "metadata": {},
   "source": [
    "**Saída esperada**:\n",
    "- Gráfico 1: resposta do processo $\\mathcal{M}_0$ e dos modelos obtidos ($\\mathcal{M}_{8a}$, $\\mathcal{M}_{8b}$, etc.) nos dados de treinamento $\\mathcal{Z}_{1}$\n",
    "- Gráfico 2: resposta do processo $\\mathcal{M}_0$ e dos modelos obtidos ($\\mathcal{M}_{8a}$, $\\mathcal{M}_{8b}$, etc.) nos dados de teste $\\mathcal{Z}_{2}$\n",
    "- Gráfico 3: resposta do processo $\\mathcal{M}_0$ e dos modelos obtidos ($\\mathcal{M}_{8a}$, $\\mathcal{M}_{8b}$, etc.) nos dados $\\mathcal{Z}_{3}$\n",
    "- Comentários acerca do desempenho dos modelos nos dados acima\n",
    "___\n",
    "\n",
    "Acabou rápido? Faça o desafio opcional abaixo! Se não fizer, tudo bem, pode pular para as conclusões.\n",
    "\n",
    "\n",
    "## Desafio! (opcional)\n",
    "\n",
    "1. Incremente ruído nos sinais de entrada e saída e obtenha os modelos novamente. Compare num mesmo gráfico as respostas do sistema com e sem ruído. Verifique a robustez do método à ruídos de medição.\n",
    "1. Ao invés de estimar o modelo *discreto* e, a partir dele, estimar o modelo contínuo, estime diretamente o modelo em tempo contínuo. Para isso você precisará obter estimativas das derivadas dos sinais de entrada e de saída."
   ]
  },
  {
   "cell_type": "code",
   "execution_count": 1,
   "metadata": {},
   "outputs": [],
   "source": [
    "### SEU CÓDIGO COMEÇA AQUI ###\n",
    "None\n",
    "### FIM DO CÓDIGO ###"
   ]
  },
  {
   "cell_type": "markdown",
   "metadata": {},
   "source": [
    "---\n",
    "# CONCLUSÕES\n",
    "\n",
    "**`[escreva aqui as principais conclusões desta etapa]`**\n",
    "\n",
    "Fim (ufa!)"
   ]
  }
 ],
 "metadata": {
  "kernelspec": {
   "display_name": "Python 3",
   "language": "python",
   "name": "python3"
  },
  "language_info": {
   "codemirror_mode": {
    "name": "ipython",
    "version": 3
   },
   "file_extension": ".py",
   "mimetype": "text/x-python",
   "name": "python",
   "nbconvert_exporter": "python",
   "pygments_lexer": "ipython3",
   "version": "3.6.11"
  },
  "toc": {
   "base_numbering": 1,
   "nav_menu": {
    "height": "228px",
    "width": "370px"
   },
   "number_sections": true,
   "sideBar": true,
   "skip_h1_title": false,
   "title_cell": "Table of Contents",
   "title_sidebar": "Contents",
   "toc_cell": false,
   "toc_position": {},
   "toc_section_display": true,
   "toc_window_display": false
  }
 },
 "nbformat": 4,
 "nbformat_minor": 2
}
