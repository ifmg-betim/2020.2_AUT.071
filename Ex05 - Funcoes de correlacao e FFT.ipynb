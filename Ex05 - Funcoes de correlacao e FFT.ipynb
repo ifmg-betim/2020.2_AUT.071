{
 "cells": [
  {
   "cell_type": "markdown",
   "metadata": {},
   "source": [
    "# TMSD - Ex05 - `[escreva seu nome aqui]`\n",
    "\n",
    "Neste exercício você vai analisar sinais por meio das funções de correlação e transformada de Fourier (FFT).\n",
    "\n",
    "**HONESTIDADE ACADÊMICA**\n",
    "\n",
    "Todo o trabalho feito neste curso deve ser exclusivamente seu. A colaboração de terceiros na realização dos trabalhos não é permitida.\n",
    "\n",
    "Ver ou copiar o trabalho de outro indivíduo do curso ou retirar material de um livro, site ou outra fonte, mesmo em parte e apresentá-lo como seu próprio constitui desonestidade acadêmica, assim como mostrar ou dar a sua obra, mesmo em parte, a outro estudante. Da mesma forma, é desonestidade acadêmica fornecer ou tornar as soluções disponíveis dos trabalhos para os indivíduos que fazem ou poderão fazer este curso no futuro. Você está convidado a discutir o material do curso com os outros, a fim de melhor compreendê-lo. Você pode até discutir sobre os trabalhos com os colegas, mas você não pode compartilhar códigos, funções, projetos, tabelas, desenhos esquemáticos, mapas ou diagramas.\n",
    "\n",
    "Você pode e deve recorrer à Web para obter referências na busca de soluções para os trabalhos, mas não por soluções definitivas para os problemas. No entanto, deve-se citar explicitamente no projeto a origem de qualquer procedimento ou técnica que você descubra fora do curso.\n",
    "\n",
    "Todas as formas de desonestidade acadêmica são tratadas com rigor.\n",
    "\n",
    "\n",
    "**Instruções:**\n",
    "- Use a versão Python 3.x\n",
    "- Evite sempre usar usar laços `for` e `while`, fazer contas no formato vetorial é sempre mais rápido.\n",
    "- Não apague os comentários que já existem nas células de código. Mas é claro que você pode adicionar outros comentários.\n",
    "\n",
    "**Objetivos**\n",
    "- Implementar e analisar correlação entre sinais\n",
    "- Implementar função de autocorrelação\n",
    "- Analisar sinais no domínio da frequência"
   ]
  },
  {
   "cell_type": "markdown",
   "metadata": {},
   "source": [
    "# Funções de correlação\n",
    "\n",
    "A definição de correlação não é única. Consideraremos uma forma implementável para vetores finitos que representam os sinais que queremos analisar. Considere dois vetores de mesma dimensão $u,y\\in\\mathbb{R}^N$, em que $x\\equiv [x(0) \\: x(1) \\: x(2) \\: \\cdots \\: x(N)]^\\top$ e $y\\equiv [y(0) \\: y(1) \\: y(2) \\: \\cdots \\: y(N)]^\\top$.\n",
    "\n",
    "Para cálculo da correlação entre esses sinais, é possível usar:\n",
    "\n",
    "\\begin{align}\n",
    "r_{uy} (k) = \\color{blue}{ \\frac{1}{\\lVert u \\rVert \\lVert y \\rVert}} \\sum_{n=-N}^{N} u(n+k) y(n) , \\label{eq1}\\tag{1}\n",
    "\\end{align}\n",
    "\n",
    "em que $\\lVert . \\rVert$ denota a norma $L_2$ de cada vetor. Ao tratarmos da função de correlação, a variável independente $k$ é chamada de *atraso* já que ela denota o atraso de um sinal com relação ao outro no somatório.\n",
    "\n",
    "***Autocorrelação***. Quando calculamos a correlação \\eqref{eq1} de um sinal $u(k)$ com ele mesmo $y(k)\\equiv u(k)$, chamamos de *autocorrelação*.\n",
    "\n",
    "***Normalização***. O termo destacado de azul em \\eqref{eq1} tem o papel de normalizar o vetor de correlação cruzada $r_{uy}$, de modo que, se $u(n+k)=y(n)\\forall -N\\le n\\le N$, então $\\lVert r_{uy}\\rVert=1$. Isto é, o fator de normalização garante que a correlação unitária acontecerá quando os sinais forem idênticos a menos de uma constante.\n",
    "\n",
    "***Janelamento***. Vale ressaltar também que, a rigor, em \\eqref{eq1} é impossível calcular o valor de $u(n+k)$ quando $n+k>N$ ou $n+k<0$. Para viabilizar esses cálculos, faz-se um janelamento do sinal, considerando que $u(k)=0, \\forall k<0, \\forall k>N$. A mesma consideração é feita para $y$, em que $y(k)=0, \\forall k<0, \\forall k>N$.\n",
    "\n",
    "O efeito do janelamento pode ser facilmente visualizado ao fazer a correlação entre dois sinais idênticos (autocorrelação) e periódicos. Se $u(k)$ é periódico com período $N_0$, por definição, $u(k)=u(k+N_0), \\forall k$. Assim, poderíamos esperar que a função de correlação \\eqref{eq1} de $u(k)$ com $y(k)\\equiv u(k)$, fosse também um sinal periódico com período $N_0$, já que, a cada $N_0$, faríamos a correlação de dois sinais idênticos. Contudo, à rigor, na prática $u(k)$ não é periódico, pois é um sinal de duração finita e a condição de periodicidade não vale para todo valor de amostra $k$ (efeito janelamento). Decorre que $r_{uy}(k)$ também não será periódico, em que o efeito de janelamento pode ser percebido verificando-se que os picos de correlação se reduzem à medida que o valor do atraso $k$ se aproximam das bordas.\n",
    "\n",
    "***Efeito da média***. Considere um sinal $u(k)$, de média nula, e outro sinal $y(k) = u(k)+1$, cuja média temporal é igual a um. Note que, neste caso, os sinais são idênticos a menos de uma constante. Em análise de sinais, seria interessante que a função de correlação intentifique a semelhança entre esses sinais, ou seja, que gostaríamos que $r_{uy} (0)=1$. Contudo, se calcularmos a correlação cruzada entre esses sinais para o atraso nulo, $k=0$, temos:\n",
    "\\begin{align}\n",
    "r_{uy} (0) &= \\frac{1}{\\lVert u \\rVert \\lVert u+1 \\rVert} \\sum_{n=-N}^{N} u(n) [u(n)+1] , \\\\\n",
    "&= \\frac{1}{\\lVert u \\rVert \\lVert u+1 \\rVert} \\sum_{n=-N}^{N} u^2(n) + \\frac{1}{\\lVert u \\rVert \\lVert u+1 \\rVert} \\sum_{n=-N}^{N} u(n) ,\\\\\n",
    "&= \\frac{\\lVert u \\rVert^2}{\\lVert u \\rVert \\lVert u+1 \\rVert} ,\n",
    "\\end{align}\n",
    "\n",
    "em que nas últimas linhas usou-se o fato de que a média de $u(k)$ é nula, i.e., $\\frac{1}{N} \\sum^N_n u(n) = 0 \\therefore \\sum^N_n u(n) = 0$ e que $\\sum_{n=-N}^{N} u^2(n)=\\lVert u \\rVert^2$. Então tem-se:\n",
    "\n",
    "\\begin{align}\n",
    "r_{uy} (0) &= \\frac{\\lVert u \\rVert}{\\lVert u+1 \\rVert} .\n",
    "\\end{align}\n",
    "\n",
    "Note que $r_{uy} (0) \\neq 1$ para o caso citado. Isso dificulta a interpretação da função de correlação para avaliar similaridade entre sinais. Desta forma, é comum retirar a média dos sinais $u(k)$ e $y(k)$ antes de calcular \\eqref{eq1}.\n",
    "\n",
    "\n",
    "***Vetor de atrasos***. Para o cálculo do somatório, parte na cor preta ao lado direito de \\eqref{eq1}, é possível usar a função `np.correlate()` que, usada com vetores de mesmo tamanho, o vetor de atrasos em pode ser calculado como:\n",
    "- `np.arange(-N+1, N)`: atraso em *amostras* $k$\n",
    "- `np.arange(-N+1, N)*T`: atraso no *tempo amostrado* $kT$\n",
    "\n",
    "\n",
    "\n",
    "Crie uma função que calcule a correlação normalizada, sem efeito de média, com os seguintes parâmetros:\n",
    "1. Nome da função:\n",
    "  + `corr(u, y=None, T=1)`\n",
    "1. Entrada:\n",
    "  + `u`: vetor representando o primeiro sinal\n",
    "  + `y`: vetor representando o segundo sinal (se y=None, faça autocorrelação de `u`)\n",
    "  + `T`: período de amostragem\n",
    "1. Saída:\n",
    "  + `lags`: vetor de atrasos calculado no *tempo amostrado*\n",
    "  + `ruy`: vetor com os respectivos valores $r_{uy}(k)$ da função de correlação\n",
    "\n",
    "Para os gráficos use `plt.figure(figsize=(8,1.5))` para especificar esse tamanho de figura."
   ]
  },
  {
   "cell_type": "code",
   "execution_count": 15,
   "metadata": {},
   "outputs": [],
   "source": [
    "### SEU CÓDIGO COMEÇA AQUI ###\n",
    "def corr():\n",
    "    return None\n",
    "\n",
    "### FIM DO CÓDIGO ###"
   ]
  },
  {
   "cell_type": "markdown",
   "metadata": {},
   "source": [
    "**Saída esperada**:\n",
    "- Nenhuma saída esperada (mas teste a sua função!)\n",
    "___\n",
    "\n",
    "Use a função criada para calcular a correlação entre os sinais:\n",
    "\\begin{align}\n",
    " u(t) &= \\cos(6\\pi t) - 0,4 \\cos(18\\pi t) - 0,1 \\cos(72\\pi t) + 4 + e(t), \\\\\n",
    " y(t) &= \\cos(6\\pi t) - 0,4 \\cos(36 t) - 0,1 \\cos(140 t) + 1 + e(t).\n",
    "\\end{align}\n",
    "\n",
    "Sendo $e(t)\\sim \\mathcal{N}(0;0,2)$ um ruído branco.\n",
    "\n",
    "Mostre o gráfico de correlação cruzada $r_{uy}$ e autocorrelações $r_{u}$ e $r_{y}$."
   ]
  },
  {
   "cell_type": "code",
   "execution_count": 19,
   "metadata": {},
   "outputs": [],
   "source": [
    "### SEU CÓDIGO COMEÇA AQUI ###\n",
    "None\n",
    "### FIM DO CÓDIGO ###"
   ]
  },
  {
   "cell_type": "markdown",
   "metadata": {},
   "source": [
    "**Saída esperada**:\n",
    "- Gráfico 1 correlação cruzada entre $u$ e $y$\n",
    "- Gráfico 2 autocorrelação de $u$\n",
    "- Gráfico 3 autocorrelação de $y$\n",
    "___\n",
    "\n",
    "# Análise de sinais no domínio da frequência\n",
    "\n",
    "Para analisar sinais de tempo contínuo usando ferramenta computacional é necessário trabalhar com sua versão *amostrada* e *finita*. Para isso, a série de Fourier no pacote `scipy.fft.fft` (https://docs.scipy.org/doc/scipy/reference/tutorial/fft.html) é implementada por:\n",
    "$$ \\tilde{X}[k]=\\sum_{n=\\langle N \\rangle} \\tilde{x}[n] e^{-jk(2\\pi/N)n} .$$\n",
    "\n",
    "Use a função `scipy.fft.fft` para o sinal abaixo:\n",
    "$$x(t) = \\mathrm{sen}(4\\pi t) + 0,7\\mathrm{cos}(6\\pi t) + 0,2.$$\n",
    "\n",
    "Note que o sinal é composto por duas frequências básicas, uma em $4\\pi$ rad/s ($2$Hz) e outra em $6\\pi$ rad/s ($3$Hz), e uma constante somada. A amplitude da primeira componente é unitária e a da segunda componente é $0,7$.\n",
    "\n",
    "Para que a FFT seja melhor interpretável, esse sinal deve ser representado no domínio da frequência por um pico unitário em $4\\pi$ rad/s ($2$Hz), um pico de amplitude $0,7$ em $6\\pi$ rad/s ($3$Hz) e um pico de amplitude $0,2$ na frequência zero, representando a constante somada no sinal.\n",
    "\n",
    "O sinal ainda está descrito no domínio do tempo contínuo. Use um período de amostragem de $T=0,1$s para representá-lo no tempo discreto, como um vetor. Escolha apropriadamente o tamanho do vetor a ser analisado e veja o efeito na representação no domínio da frequência. *Cuidado! Vetores muito grandes podem deixar o código muito lento!!*\n",
    "\n",
    "1. Defina os parâmetros do sinal nas seguintes variáveis:\n",
    "   - `N` (tamanho do vetor do sinal)\n",
    "   - `n` (vetor com amostras de tempo correspondentes a $nT$)\n",
    "   - `T` (período de amostragem utilizado)\n",
    "- Implemente o sinal amostrado e mostre-o num gráfico (não se esqueça de nomear os eixos!)\n",
    "- Use a função criada para obter o sinal no domínio da frequência $X[k]$\n",
    "- Implemente as transformações necessárias no sinal de modo a exibir toda a potência do sinal no eixo positivo e não mostrar \"repetições espelhadas\" do espectro\n",
    "- Implemente o eixo de frequências em Hertz (`omg_Hz`) e também em rad/s (`omg_rad`)\n",
    "- Faça um gráfico do módulo do sinal no domínio da frequência com eixo horizontal em Hz (confira seus resultados)\n",
    "- Faça um segundo gráfico do módulo do sinal **em dB** com eixo horizontal em escala logaritmica na unidade rad/s (confira seus resultados)"
   ]
  },
  {
   "cell_type": "code",
   "execution_count": 17,
   "metadata": {},
   "outputs": [],
   "source": [
    "### SEU CÓDIGO COMEÇA AQUI ###\n",
    "N = None #tamanho do sinal\n",
    "n = None #vetor tempo\n",
    "T = None #período de amostragem\n",
    "\n",
    "### FIM DO CÓDIGO ###"
   ]
  },
  {
   "cell_type": "markdown",
   "metadata": {},
   "source": [
    "**Saída esperada**:\n",
    "- Gráfico 1 com pico unitário em $2$Hz, um pico de amplitude $0,7$ em $3$Hz e um pico de amplitude $0,2$ em zero\n",
    "- Gráfico 2, em dB, com pico unitário em $4\\pi$ rad/s, um pico de amplitude $0,7$ em $6\\pi$ rad/s\n",
    "___\n",
    "\n",
    "## Completando com zeros (*zero-padding*)\n",
    "\n",
    "Agora o objetivo é usar elevar o número de pontos no domínio da frequência usando zero-padding.\n",
    "\n",
    "1. Usando o mesmo sinal $x(t)$, com um baixo valor de $N$ (e.g., $N=40$), calcule a FFT do sinal usando a função da biblioteca scipy\n",
    "- Use o recurso de *zero padding* da função, especificando $M=200$ amostras para serem calculadas na FFT\n",
    "- Faça as transformações apropriadas no sinal, de modo a obter o mesmo resultado esperado da função implementada. *Atente-se para o fato de que o sinal \"original\" tem $N=40$ amostras, mas a FFT é calculada com $M=200$ amostras. Para fazer a transformação de escala no sinal, deve ser usado $N$ (do sinal original) e não $M$.*\n",
    "- Faça um gráfico do sinal no domínio da frequência representando módulo e frequência em Hz\n",
    "- Faça um gráfico do sinal no domínio da frequência representando a fase do sinal em graus (use `np.angle` com parâmetro `deg=True`)"
   ]
  },
  {
   "cell_type": "code",
   "execution_count": 16,
   "metadata": {},
   "outputs": [],
   "source": [
    "### SEU CÓDIGO COMEÇA AQUI ### (≈ 15 linhas de código)\n",
    "None\n",
    "### FIM DO CÓDIGO ###"
   ]
  },
  {
   "cell_type": "markdown",
   "metadata": {},
   "source": [
    "**Saída esperada**:\n",
    "- Gráfico de módulo do sinal (semelhante ao da atividade anterior, mas com efeitos do zero-padding)\n",
    "- Gráfico de fase do sinal\n",
    "___"
   ]
  },
  {
   "cell_type": "markdown",
   "metadata": {},
   "source": [
    "Fim...\n",
    "(Acabou rápido? Faça o desafio opcional abaixo! Se não fizer, tudo bem)\n",
    "\n",
    "\n",
    "# Desafio! (opcional)\n",
    "\n",
    "Faça a autocorrelação e a FFT de um sinal real de ECG (eletrocardiograma) de uma pessoa saudável e uma pessoa com alguma anomalia. Acesse os dados neste repositório:\n",
    "https://github.com/iizukak/ecg-htm\n",
    "\n",
    "Neste outro repositório tem uma explicação sobre o sinal ECG: https://github.com/mozanunal/digital-filtering-of-ecg-signal\n",
    "\n",
    "É possível distinguir o ECG normal do anormal pela FFT do sinal?"
   ]
  },
  {
   "cell_type": "code",
   "execution_count": 8,
   "metadata": {},
   "outputs": [],
   "source": [
    "### SEU CÓDIGO COMEÇA AQUI ###\n",
    "\n",
    "### FIM DO CÓDIGO ###"
   ]
  },
  {
   "cell_type": "markdown",
   "metadata": {},
   "source": [
    "Fim (ufa!)"
   ]
  }
 ],
 "metadata": {
  "kernelspec": {
   "display_name": "Python 3",
   "language": "python",
   "name": "python3"
  },
  "language_info": {
   "codemirror_mode": {
    "name": "ipython",
    "version": 3
   },
   "file_extension": ".py",
   "mimetype": "text/x-python",
   "name": "python",
   "nbconvert_exporter": "python",
   "pygments_lexer": "ipython3",
   "version": "3.6.11"
  },
  "toc": {
   "base_numbering": 1,
   "nav_menu": {
    "height": "228px",
    "width": "370px"
   },
   "number_sections": true,
   "sideBar": true,
   "skip_h1_title": false,
   "title_cell": "Table of Contents",
   "title_sidebar": "Contents",
   "toc_cell": false,
   "toc_position": {},
   "toc_section_display": true,
   "toc_window_display": false
  }
 },
 "nbformat": 4,
 "nbformat_minor": 2
}
