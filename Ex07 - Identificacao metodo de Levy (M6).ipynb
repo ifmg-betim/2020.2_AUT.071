{
 "cells": [
  {
   "cell_type": "markdown",
   "metadata": {},
   "source": [
    "# TMSD - Ex07 - `[escreva seu nome aqui]` - `[escreva seu RA aqui]`\n",
    "\n",
    "Neste exercício você vai obter um modelo paramétrico pelo método de Levy.\n",
    "\n",
    "**HONESTIDADE ACADÊMICA**\n",
    "\n",
    "Todo o trabalho feito neste curso deve ser exclusivamente seu. A colaboração de terceiros na realização dos trabalhos não é permitida.\n",
    "\n",
    "Ver ou copiar o trabalho de outro indivíduo do curso ou retirar material de um livro, site ou outra fonte, mesmo em parte e apresentá-lo como seu próprio constitui desonestidade acadêmica, assim como mostrar ou dar a sua obra, mesmo em parte, a outro estudante. Da mesma forma, é desonestidade acadêmica fornecer ou tornar as soluções disponíveis dos trabalhos para os indivíduos que fazem ou poderão fazer este curso no futuro. Você está convidado a discutir o material do curso com os outros, a fim de melhor compreendê-lo. Você pode até discutir sobre os trabalhos com os colegas, mas você não pode compartilhar códigos, funções, projetos, tabelas, desenhos esquemáticos, mapas ou diagramas.\n",
    "\n",
    "Você pode e deve recorrer à Web para obter referências na busca de soluções para os trabalhos, mas não por soluções definitivas para os problemas. No entanto, deve-se citar explicitamente no projeto a origem de qualquer procedimento ou técnica que você descubra fora do curso.\n",
    "\n",
    "Todas as formas de desonestidade acadêmica são tratadas com rigor.\n",
    "\n",
    "\n",
    "**Instruções:**\n",
    "- Use a versão Python 3.x\n",
    "- Não apague os comentários que já existem nas células de código, mas é claro que você pode adicionar outros comentários.\n",
    "- Em TODOS os gráficos use `plt.figure(figsize=(8,1.5))` para especificar esse tamanho de figura.\n",
    "\n",
    "**Objetivos**\n",
    "- Obter a resposta em frequência do sistema usando sinal PRBS na entrada (modelo $\\mathcal{M}_5$ não paramétrico)\n",
    "- Obter a função de transferência do sistema a partir da resposta em frequência obtida pelo método de Levy (modelo $\\mathcal{M}_6$)"
   ]
  },
  {
   "cell_type": "markdown",
   "metadata": {},
   "source": [
    "## Resposta em frequência\n",
    "\n",
    "Com auxílio do seu próprio código desenvolvido no exercício anterior, obtenha a resposta em frequência estimada $H(j\\omega)$ do sistema. Mostre abaixo o gráfico de entrada e saída do sinal PRBS aplicado e também o módulo (em dB) e fase da resposta em frequência estimada, usando `plt.semilogx` (diagrama de Bode).\n",
    "\n",
    "Para os gráficos use `plt.figure(figsize=(8,1.5))` para especificar esse tamanho de figura."
   ]
  },
  {
   "cell_type": "code",
   "execution_count": 1,
   "metadata": {},
   "outputs": [],
   "source": [
    "### SEU CÓDIGO COMEÇA AQUI ###\n",
    "None\n",
    "### FIM DO CÓDIGO ###"
   ]
  },
  {
   "cell_type": "markdown",
   "metadata": {},
   "source": [
    "**Saída esperada**:\n",
    "- Gráfico 1: sinal PRBS de entrada $u(t)$ aplicado no sistema\n",
    "- Gráfico 2: saída $y(t)$ do sistema para o sinal PRBS aplicado na entrada\n",
    "- Gráfico 3: diagrama de Bode estimado do sistema, com módulo $|\\hat{H}(j\\omega)|_\\mathrm{dB}$ (em dB) e fase $\\measuredangle H(j\\omega)$ (modelo não paramétrico $\\mathcal{M}_5$)\n",
    "\n",
    "*Verifique se o sinal PRBS aplicado foi adequado!*\n",
    "___\n",
    "\n",
    "\n",
    "## Obtenção da função de transferência\n",
    "\n",
    "Usando o método de Levy, descrito no **Complemento 4.2** do livro, obtenha pelo menos uma função de transferência (pode ser mais de uma) estimada para o sistema. Para auxiliar na escolha da estrutura do modelo (i.e., grau dos polinômios do numerador e do denominador), você pode se guiar pelo diagrama de Bode estimado (modelo $\\mathcal{M}_5$, não paramétrico), pelos modelos obtidos anteriormente, ou mesmo pela estrutura das equações do sistema. O modelo paramétrico obtido pelo método de Levy será o $\\mathcal{M}_6$.\n",
    "\n",
    "Após obter o modelo, implemente o sistema linear e obtenha, num mesmo gráfico, a\n",
    "1. Resposta ao degrau do modelo $\\mathcal{M}_6$ e do processo $\\mathcal{M}_0$\n",
    "1. Resposta em frequência do modelo paramétrico $\\mathcal{M}_6$ e do modelo paramétrico $\\mathcal{M}_5$\n",
    "\n",
    "Para os gráficos use `plt.figure(figsize=(8,1.5))` para especificar esse tamanho de figura."
   ]
  },
  {
   "cell_type": "code",
   "execution_count": null,
   "metadata": {},
   "outputs": [],
   "source": [
    "### SEU CÓDIGO COMEÇA AQUI ###\n",
    "None\n",
    "### FIM DO CÓDIGO ###"
   ]
  },
  {
   "cell_type": "code",
   "execution_count": null,
   "metadata": {},
   "outputs": [],
   "source": [
    "### SEU CÓDIGO COMEÇA AQUI ###\n",
    "None\n",
    "### FIM DO CÓDIGO ###"
   ]
  },
  {
   "cell_type": "markdown",
   "metadata": {},
   "source": [
    "**Saída esperada**:\n",
    "- Gráfico 1: resposta ao degrau do processo $\\mathcal{M}_0$ e do modelo $\\mathcal{M}_6$\n",
    "- Gráfico 2: resposta em frequência do modelo paramétrico $\\mathcal{M}_6$ e do modelo não paramétro $\\mathcal{M}_5$\n",
    "\n",
    "___"
   ]
  },
  {
   "cell_type": "markdown",
   "metadata": {},
   "source": [
    "Acabou rápido? Faça o desafio opcional abaixo! Se não fizer, tudo bem, pode pular para as conclusões.\n",
    "\n",
    "\n",
    "## Desafio! (opcional)\n",
    "\n",
    "Incremente ruído no sinal de saída e faça o mesmo procedimento para estimar o modelo $\\mathcal{M}_6$ novamente. Compare num mesmo gráfico as respostas ao degrau e em frequência obtidas com e sem ruído. Verifique a robustez do método à ruídos de medição."
   ]
  },
  {
   "cell_type": "code",
   "execution_count": null,
   "metadata": {},
   "outputs": [],
   "source": [
    "### SEU CÓDIGO COMEÇA AQUI ###\n",
    "\n",
    "### FIM DO CÓDIGO ###"
   ]
  },
  {
   "cell_type": "markdown",
   "metadata": {},
   "source": [
    "---\n",
    "# CONCLUSÕES\n",
    "\n",
    "**`[escreva aqui as principais conclusões desta etapa]`**\n",
    "\n",
    "Fim (ufa!)"
   ]
  }
 ],
 "metadata": {
  "kernelspec": {
   "display_name": "Python 3",
   "language": "python",
   "name": "python3"
  },
  "language_info": {
   "codemirror_mode": {
    "name": "ipython",
    "version": 3
   },
   "file_extension": ".py",
   "mimetype": "text/x-python",
   "name": "python",
   "nbconvert_exporter": "python",
   "pygments_lexer": "ipython3",
   "version": "3.6.11"
  },
  "toc": {
   "base_numbering": 1,
   "nav_menu": {
    "height": "228px",
    "width": "370px"
   },
   "number_sections": true,
   "sideBar": true,
   "skip_h1_title": false,
   "title_cell": "Table of Contents",
   "title_sidebar": "Contents",
   "toc_cell": false,
   "toc_position": {},
   "toc_section_display": true,
   "toc_window_display": false
  }
 },
 "nbformat": 4,
 "nbformat_minor": 2
}
